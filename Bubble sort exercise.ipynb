{
 "cells": [
  {
   "cell_type": "code",
   "execution_count": 10,
   "metadata": {
    "collapsed": true
   },
   "outputs": [],
   "source": [
    "# bubble sort exercises\n",
    "def bubbleSort(extuple):\n",
    "    for passnum in range(len(extuple)-1,0,-1):\n",
    "        for i in range(passnum):\n",
    "            if extuple[i][1]>extuple[i+1][1]:\n",
    "                print('do {num} {exercise}'.format(num=extuple[i][1], exercise=extuple[i][0]))\n",
    "                print('do {num} {exercise}'.format(num=extuple[i+1][1], exercise=extuple[i+1][0]))\n",
    "                temp = extuple[i]\n",
    "                extuple[i] = extuple[i+1]\n",
    "                extuple[i+1] = temp"
   ]
  },
  {
   "cell_type": "code",
   "execution_count": 11,
   "metadata": {},
   "outputs": [],
   "source": [
    "exercises = [('jumping jacks', 25), ('jump squats', 20), ('pushups', 15), ('curls', 10), ('burpees', 5)]"
   ]
  },
  {
   "cell_type": "code",
   "execution_count": 12,
   "metadata": {},
   "outputs": [
    {
     "name": "stdout",
     "output_type": "stream",
     "text": [
      "do 25 jumping jacks\n",
      "do 20 jump squats\n",
      "do 25 jumping jacks\n",
      "do 15 pushups\n",
      "do 25 jumping jacks\n",
      "do 10 curls\n",
      "do 25 jumping jacks\n",
      "do 5 burpees\n",
      "do 20 jump squats\n",
      "do 15 pushups\n",
      "do 20 jump squats\n",
      "do 10 curls\n",
      "do 20 jump squats\n",
      "do 5 burpees\n",
      "do 15 pushups\n",
      "do 10 curls\n",
      "do 15 pushups\n",
      "do 5 burpees\n",
      "do 10 curls\n",
      "do 5 burpees\n"
     ]
    }
   ],
   "source": [
    "bubbleSort(exercises)"
   ]
  },
  {
   "cell_type": "code",
   "execution_count": null,
   "metadata": {
    "collapsed": true
   },
   "outputs": [],
   "source": []
  }
 ],
 "metadata": {
  "kernelspec": {
   "display_name": "Python 3",
   "language": "python",
   "name": "python3"
  },
  "language_info": {
   "codemirror_mode": {
    "name": "ipython",
    "version": 3
   },
   "file_extension": ".py",
   "mimetype": "text/x-python",
   "name": "python",
   "nbconvert_exporter": "python",
   "pygments_lexer": "ipython3",
   "version": "3.6.1"
  }
 },
 "nbformat": 4,
 "nbformat_minor": 2
}
